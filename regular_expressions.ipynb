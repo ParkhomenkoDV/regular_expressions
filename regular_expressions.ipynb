{
 "cells": [
  {
   "cell_type": "markdown",
   "metadata": {},
   "source": [
    "# Регулярные выражения"
   ]
  },
  {
   "cell_type": "markdown",
   "metadata": {},
   "source": [
    "Импорт библиотеки"
   ]
  },
  {
   "cell_type": "code",
   "execution_count": 2,
   "metadata": {},
   "outputs": [],
   "source": [
    "import re"
   ]
  },
  {
   "cell_type": "markdown",
   "metadata": {},
   "source": [
    "- проверка фрагмента текста заданному шаблону\n",
    "- поиск подстрок по указанному шаблону в тексте\n",
    "- поиск и замена регулярного выражения на заданную строку\n",
    "- разбинение строки по найденным шаблонам, записанного в виде регулярного выражения"
   ]
  },
  {
   "cell_type": "code",
   "execution_count": 3,
   "metadata": {},
   "outputs": [],
   "source": [
    "text = \"Карта map и объект bitmap - это разные вещи!\""
   ]
  },
  {
   "cell_type": "markdown",
   "metadata": {},
   "source": [
    "Метод нахождения подстрок \"map\" в text"
   ]
  },
  {
   "cell_type": "code",
   "execution_count": 4,
   "metadata": {},
   "outputs": [
    {
     "name": "stdout",
     "output_type": "stream",
     "text": [
      "['map', 'map']\n"
     ]
    }
   ],
   "source": [
    "match = re.findall(\"map\", text)\n",
    "print(match)"
   ]
  },
  {
   "cell_type": "markdown",
   "metadata": {},
   "source": [
    "Метод нахождения подстрок \" map \" в text"
   ]
  },
  {
   "cell_type": "code",
   "execution_count": 5,
   "metadata": {},
   "outputs": [
    {
     "name": "stdout",
     "output_type": "stream",
     "text": [
      "['map']\n",
      "['map']\n"
     ]
    }
   ],
   "source": [
    "match = re.findall(\"\\\\bmap\\\\b\", text) # двойные слэши - неудобны\n",
    "print(match)\n",
    "\n",
    "match = re.findall(r\"\\bmap\\b\", text) # так-то лучше\n",
    "print(match)"
   ]
  },
  {
   "cell_type": "code",
   "execution_count": 6,
   "metadata": {},
   "outputs": [
    {
     "name": "stdout",
     "output_type": "stream",
     "text": [
      "['еда', 'еда', 'еда']\n"
     ]
    }
   ],
   "source": [
    "match = re.findall(\"еда\", \"еда, беда, победа\")\n",
    "print(match)"
   ]
  },
  {
   "cell_type": "markdown",
   "metadata": {},
   "source": [
    "Специальные символы: `\\.^$?+*{}[]()|`"
   ]
  },
  {
   "cell_type": "code",
   "execution_count": 7,
   "metadata": {},
   "outputs": [
    {
     "name": "stdout",
     "output_type": "stream",
     "text": [
      "['еда', 'еда', 'еда']\n"
     ]
    }
   ],
   "source": [
    "match = re.findall(\"(еда)\", \"еда, беда, победа\") \n",
    "print(match)"
   ]
  },
  {
   "cell_type": "code",
   "execution_count": 8,
   "metadata": {},
   "outputs": [
    {
     "name": "stdout",
     "output_type": "stream",
     "text": [
      "[]\n"
     ]
    }
   ],
   "source": [
    "match = re.findall(\"\\(еда\\)\", \"еда, беда, победа\") # поиск \"(еда)\"\n",
    "print(match)"
   ]
  },
  {
   "cell_type": "markdown",
   "metadata": {},
   "source": [
    "## Символьные классы"
   ]
  },
  {
   "cell_type": "markdown",
   "metadata": {},
   "source": [
    "- [] = символьный класс вариантов для ОДНОГО символа"
   ]
  },
  {
   "cell_type": "markdown",
   "metadata": {},
   "source": [
    "Ищем \"еда\", \"еду\", \"Еда\", \"Еду\", отличающиеся первыми и последними буквами"
   ]
  },
  {
   "cell_type": "code",
   "execution_count": 10,
   "metadata": {},
   "outputs": [
    {
     "name": "stdout",
     "output_type": "stream",
     "text": [
      "['Еду', 'еду', 'еда']\n"
     ]
    }
   ],
   "source": [
    "text = \"Еду, беду, победа\"\n",
    "match = re.findall(r\"[еЕ]д[ау]\", text)\n",
    "print(match)"
   ]
  },
  {
   "cell_type": "code",
   "execution_count": 22,
   "metadata": {},
   "outputs": [
    {
     "name": "stdout",
     "output_type": "stream",
     "text": [
      "['3', '4', '5']\n",
      "['45']\n",
      "['45']\n",
      "['-3', '45']\n",
      "['Е', 'д', 'у', ',', ' ', 'б', 'е', 'д', 'у', ',', ' ', '-', ' ', '(', ')', ' ', 'п', 'о', 'б', 'е', 'д', 'а']\n",
      "['д', 'у', 'б', 'е', 'д', 'у', 'п', 'о', 'б', 'е', 'д', 'а']\n",
      "['Е', 'д', 'у', 'б', 'е', 'д', 'у', 'п', 'о', 'б', 'е', 'д', 'а']\n",
      "['Е', 'д', 'у', 'б', 'е', 'д', 'у', '3', '4', '5', 'п', 'о', 'б', 'е', 'д', 'а']\n",
      "['Е', 'д', 'у', 'б', 'е', 'д', 'у', '3', '(', '4', '5', ')', 'п', 'о', 'б', 'е', 'д', 'а']\n"
     ]
    }
   ],
   "source": [
    "text = \"Еду, беду, -3 (45) победа\"\n",
    "\n",
    "match = re.findall(r\"[0123456789]\", text)\n",
    "print(match)\n",
    "\n",
    "match = re.findall(r\"[0123456789][0123456789]\", text)\n",
    "print(match)\n",
    "\n",
    "match = re.findall(r\"[0-9][0-9]\", text)\n",
    "print(match)\n",
    "\n",
    "match = re.findall(r\"[-0-9][0-9]\", text) # минус\n",
    "print(match)\n",
    "\n",
    "match = re.findall(r\"[^0-9]\", text) # отрицание\n",
    "print(match)\n",
    "\n",
    "match = re.findall(r\"[а-я]\", text) # буквы маленькие\n",
    "print(match)\n",
    "\n",
    "match = re.findall(r\"[а-яА-Я]\", text) # буквы все\n",
    "print(match)\n",
    "\n",
    "match = re.findall(r\"[а-яА-Я0-9]\", text) # буквы все и цифры\n",
    "print(match)\n",
    "\n",
    "match = re.findall(r\"[().?а-яА-Я0-9]\", text) # буквы все и цифры и символы\n",
    "print(match)"
   ]
  },
  {
   "cell_type": "markdown",
   "metadata": {},
   "source": [
    "- `.` = любой символ, кроме `\\n`. Но если установлен флаг re.DOTALL, то точка соответствует вообще любому символу. Но если точка записана внутри символьного класса [] - то это просто точка\n",
    "- `\\d` = любая цифра при использовании Юникода. Если установлен флаг re.ASCII, то диаппазону цифр [0-9]\n",
    "- `\\D` = любая НЕ цифра при использовании Юникода. Если установлен флаг re.ASCII, то диаппазону цифр [^0-9]\n",
    "- `\\s` = любой пробельный символ. Для re.ASCII диаппазону [\\t\\n\\r\\f\\v]\n",
    "- `\\S` = любой НЕ пробельный символ. Для re.ASCII диаппазону [^\\t\\n\\r\\f\\v]\n",
    "- `\\w` = любой символ слова. При флаге re.ASCII диаппазону [a-zA-Z0-9_]\n",
    "- `\\W` = любой НЕ символ слова. При флаге re.ASCII диаппазону [^a-zA-Z0-9_]"
   ]
  },
  {
   "cell_type": "code",
   "execution_count": 27,
   "metadata": {},
   "outputs": [
    {
     "name": "stdout",
     "output_type": "stream",
     "text": [
      "['Е', 'д', 'у', ',', ' ', 'б', 'е', 'д', 'у', ',', ' ', '-', '3', ' ', '(', '4', '5', ')', ' ', 'п', 'о', 'б', 'е', 'д', 'а']\n",
      "['3', '4', '5']\n",
      "['Е', 'д', 'у', 'б', 'е', 'д', 'у', '3', '4', '5', 'п', 'о', 'б', 'е', 'д', 'а']\n",
      "['3', '4', '5']\n"
     ]
    }
   ],
   "source": [
    "match = re.findall(r\".\", text) # буквы все и цифры и символы\n",
    "print(match)\n",
    "\n",
    "match = re.findall(r\"\\d\", text) # цифры\n",
    "print(match)\n",
    "\n",
    "match = re.findall(r\"\\w\", text) # буквы все и цифры\n",
    "print(match)\n",
    "\n",
    "match = re.findall(r\"\\w\", text, re.ASCII) # буквы все и цифры, но латинского языка\n",
    "print(match)"
   ]
  },
  {
   "cell_type": "code",
   "execution_count": 28,
   "metadata": {},
   "outputs": [
    {
     "name": "stdout",
     "output_type": "stream",
     "text": [
      "['0xf', '0xa', '0x5']\n"
     ]
    }
   ],
   "source": [
    "text = \"0xf, 0xa, 0x5\"\n",
    "match = re.findall(r\"0x[\\da-zA-Z]\", text)\n",
    "print(match)"
   ]
  },
  {
   "cell_type": "code",
   "execution_count": null,
   "metadata": {},
   "outputs": [],
   "source": []
  }
 ],
 "metadata": {
  "kernelspec": {
   "display_name": "Python 3",
   "language": "python",
   "name": "python3"
  },
  "language_info": {
   "codemirror_mode": {
    "name": "ipython",
    "version": 3
   },
   "file_extension": ".py",
   "mimetype": "text/x-python",
   "name": "python",
   "nbconvert_exporter": "python",
   "pygments_lexer": "ipython3",
   "version": "3.11.9"
  }
 },
 "nbformat": 4,
 "nbformat_minor": 2
}
